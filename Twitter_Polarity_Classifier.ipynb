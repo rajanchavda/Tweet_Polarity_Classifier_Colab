{
  "nbformat": 4,
  "nbformat_minor": 0,
  "metadata": {
    "colab": {
      "name": "Twitter_positive_negative.ipynb",
      "version": "0.3.2",
      "provenance": [],
      "collapsed_sections": [],
      "include_colab_link": true
    },
    "kernelspec": {
      "name": "python3",
      "display_name": "Python 3"
    }
  },
  "cells": [
    {
      "cell_type": "markdown",
      "metadata": {
        "id": "view-in-github",
        "colab_type": "text"
      },
      "source": [
        "<a href=\"https://colab.research.google.com/github/rajanchavda/Tweet_Polarity_Classifier_Colab/blob/master/Twitter_Polarity_Classifier.ipynb\" target=\"_parent\"><img src=\"https://colab.research.google.com/assets/colab-badge.svg\" alt=\"Open In Colab\"/></a>"
      ]
    },
    {
      "cell_type": "code",
      "metadata": {
        "id": "BWwRWq2sRqRB",
        "colab_type": "code",
        "colab": {}
      },
      "source": [
        "from google.colab import drive\n",
        "drive.mount('/gdrive')\n",
        "%cd /gdrive\n",
        "%cd 'My Drive'\n",
        "%cd Datasets/Tweets"
      ],
      "execution_count": 0,
      "outputs": []
    },
    {
      "cell_type": "code",
      "metadata": {
        "id": "JQ-U44u2S5Gk",
        "colab_type": "code",
        "colab": {}
      },
      "source": [
        "# import os\n",
        "# os.getcwd()"
      ],
      "execution_count": 0,
      "outputs": []
    },
    {
      "cell_type": "code",
      "metadata": {
        "id": "hnKdu8urTU7F",
        "colab_type": "code",
        "colab": {
          "base_uri": "https://localhost:8080/",
          "height": 87
        },
        "outputId": "d345bca8-6c33-42be-8ee9-f589cfd12faf"
      },
      "source": [
        "import nltk\n",
        "nltk.download('stopwords')\n",
        "nltk.download('punkt')\n",
        "import pandas as pd\n",
        "from sklearn.feature_extraction.text import TfidfTransformer\n",
        "from sklearn.feature_extraction.text import TfidfVectorizer\n",
        "from sklearn.naive_bayes import MultinomialNB\n",
        "from  sklearn.metrics  import accuracy_score\n",
        "from nltk.tokenize import word_tokenize\n",
        "import re"
      ],
      "execution_count": 48,
      "outputs": [
        {
          "output_type": "stream",
          "text": [
            "[nltk_data] Downloading package stopwords to /root/nltk_data...\n",
            "[nltk_data]   Package stopwords is already up-to-date!\n",
            "[nltk_data] Downloading package punkt to /root/nltk_data...\n",
            "[nltk_data]   Package punkt is already up-to-date!\n"
          ],
          "name": "stdout"
        }
      ]
    },
    {
      "cell_type": "code",
      "metadata": {
        "id": "n0zufETeW9Uj",
        "colab_type": "code",
        "colab": {}
      },
      "source": [
        "df = pd.read_csv('tweet_dataset.csv', encoding='cp1252', index_col=False, header=None)"
      ],
      "execution_count": 0,
      "outputs": []
    },
    {
      "cell_type": "code",
      "metadata": {
        "id": "JBNgTqClW9Rk",
        "colab_type": "code",
        "colab": {}
      },
      "source": [
        "train = df.drop(columns=[1, 2, 3, 4])\n",
        "train.rename(columns={5:'Tweets'}, inplace=True)\n",
        "train.rename(columns={0:'Polarity'}, inplace=True)"
      ],
      "execution_count": 0,
      "outputs": []
    },
    {
      "cell_type": "code",
      "metadata": {
        "id": "QkDsKbCVW9D5",
        "colab_type": "code",
        "outputId": "6c9698b4-7738-4862-dfaf-ceee6c351dcb",
        "colab": {
          "base_uri": "https://localhost:8080/",
          "height": 79
        }
      },
      "source": [
        "train.head(1)"
      ],
      "execution_count": 51,
      "outputs": [
        {
          "output_type": "execute_result",
          "data": {
            "text/html": [
              "<div>\n",
              "<style scoped>\n",
              "    .dataframe tbody tr th:only-of-type {\n",
              "        vertical-align: middle;\n",
              "    }\n",
              "\n",
              "    .dataframe tbody tr th {\n",
              "        vertical-align: top;\n",
              "    }\n",
              "\n",
              "    .dataframe thead th {\n",
              "        text-align: right;\n",
              "    }\n",
              "</style>\n",
              "<table border=\"1\" class=\"dataframe\">\n",
              "  <thead>\n",
              "    <tr style=\"text-align: right;\">\n",
              "      <th></th>\n",
              "      <th>Polarity</th>\n",
              "      <th>Tweets</th>\n",
              "    </tr>\n",
              "  </thead>\n",
              "  <tbody>\n",
              "    <tr>\n",
              "      <th>0</th>\n",
              "      <td>0</td>\n",
              "      <td>@switchfoot http://twitpic.com/2y1zl - Awww, t...</td>\n",
              "    </tr>\n",
              "  </tbody>\n",
              "</table>\n",
              "</div>"
            ],
            "text/plain": [
              "   Polarity                                             Tweets\n",
              "0         0  @switchfoot http://twitpic.com/2y1zl - Awww, t..."
            ]
          },
          "metadata": {
            "tags": []
          },
          "execution_count": 51
        }
      ]
    },
    {
      "cell_type": "markdown",
      "metadata": {
        "id": "0VwT974w-prP",
        "colab_type": "text"
      },
      "source": [
        "## Remove stopwords (will remove NOT) \n",
        "## Part of speech tagging and then apply Stemming , lemmatization "
      ]
    },
    {
      "cell_type": "code",
      "metadata": {
        "id": "rHyylGYcXe5Q",
        "colab_type": "code",
        "colab": {}
      },
      "source": [
        "def remove_name_tag(tweet):\n",
        "    \n",
        "    tags = []\n",
        "    \n",
        "    tags = re.findall('@\\w+', tweet)\n",
        "    \n",
        "    for tag in tags:\n",
        "        if tag in tweet:\n",
        "            tweet = tweet.replace(tag,'')\n",
        "\n",
        "      \n",
        "    return tweet.strip()"
      ],
      "execution_count": 0,
      "outputs": []
    },
    {
      "cell_type": "code",
      "metadata": {
        "id": "ZjKIH2ReQ0mf",
        "colab_type": "code",
        "colab": {}
      },
      "source": [
        "train.Tweets = train.Tweets.apply(lambda x: remove_name_tag(x))"
      ],
      "execution_count": 0,
      "outputs": []
    },
    {
      "cell_type": "code",
      "metadata": {
        "id": "ohV_epR9YeLk",
        "colab_type": "code",
        "colab": {}
      },
      "source": [
        "train_0 = train.loc[train.Polarity == 0]\n",
        "train_1 = train.loc[train.Polarity == 4]"
      ],
      "execution_count": 0,
      "outputs": []
    },
    {
      "cell_type": "code",
      "metadata": {
        "id": "FwjXEHg4YZZ6",
        "colab_type": "code",
        "colab": {}
      },
      "source": [
        "train_x = train_0[:200000]\n",
        "ss = train_1[:200000]\n",
        "train_x = train_x.append(ss, ignore_index=True)\n",
        "# train_x.count()"
      ],
      "execution_count": 0,
      "outputs": []
    },
    {
      "cell_type": "code",
      "metadata": {
        "id": "e0Vws4YBYZWp",
        "colab_type": "code",
        "colab": {}
      },
      "source": [
        "test_x = train_0[200000:240000]\n",
        "ss = train_1[200000:240000]\n",
        "test_x = test_x.append(ss, ignore_index=True)\n",
        "# test_x.count()"
      ],
      "execution_count": 0,
      "outputs": []
    },
    {
      "cell_type": "code",
      "metadata": {
        "id": "yg7Z6GYKYZU-",
        "colab_type": "code",
        "colab": {}
      },
      "source": [
        "tr_x = train_x['Tweets']\n",
        "tr_y = train_x['Polarity']\n",
        "\n",
        "te_x = test_x['Tweets']\n",
        "te_y = test_x['Polarity']"
      ],
      "execution_count": 0,
      "outputs": []
    },
    {
      "cell_type": "code",
      "metadata": {
        "id": "-wwFpQvbYZJe",
        "colab_type": "code",
        "outputId": "72ca01e9-a374-4812-82c6-8a773612f69e",
        "colab": {
          "base_uri": "https://localhost:8080/",
          "height": 34
        }
      },
      "source": [
        "vectorizer = TfidfVectorizer(max_features=10000)\n",
        "train_vectors = vectorizer.fit_transform(tr_x)\n",
        "test_vectors = vectorizer.transform(te_x)\n",
        "print(train_vectors.shape, test_vectors.shape)"
      ],
      "execution_count": 64,
      "outputs": [
        {
          "output_type": "stream",
          "text": [
            "(400000, 10000) (80000, 10000)\n"
          ],
          "name": "stdout"
        }
      ]
    },
    {
      "cell_type": "code",
      "metadata": {
        "id": "td4aFKZ_hD0E",
        "colab_type": "code",
        "outputId": "787a8075-70ea-4ba2-d8e7-98a6bf9c66f1",
        "colab": {
          "base_uri": "https://localhost:8080/",
          "height": 34
        }
      },
      "source": [
        "clf = MultinomialNB().fit(train_vectors, tr_y)\n",
        "\n",
        "\n",
        "predicted = clf.predict(test_vectors)\n",
        "print(accuracy_score(te_y,predicted))"
      ],
      "execution_count": 65,
      "outputs": [
        {
          "output_type": "stream",
          "text": [
            "0.7650625\n"
          ],
          "name": "stdout"
        }
      ]
    },
    {
      "cell_type": "code",
      "metadata": {
        "id": "6py7WOOthNmO",
        "colab_type": "code",
        "colab": {}
      },
      "source": [
        "def pred(text):\n",
        "    sent = vectorizer.transform([text])\n",
        "    ans = clf.predict(sent)\n",
        "\n",
        "    for i in ans:\n",
        "    #     print(i)\n",
        "        if i==4:\n",
        "            print('positive')\n",
        "        else:\n",
        "            print('Negative')\n",
        "            \n"
      ],
      "execution_count": 0,
      "outputs": []
    },
    {
      "cell_type": "code",
      "metadata": {
        "id": "X9-ji8jleyWr",
        "colab_type": "code",
        "outputId": "83cd2706-f556-4876-fc8c-9c03c9ea0bad",
        "colab": {
          "base_uri": "https://localhost:8080/",
          "height": 34
        }
      },
      "source": [
        "text = 'your batting is getting poor day by day'\n",
        "\n",
        "pred(text)"
      ],
      "execution_count": 67,
      "outputs": [
        {
          "output_type": "stream",
          "text": [
            "Negative\n"
          ],
          "name": "stdout"
        }
      ]
    }
  ]
}